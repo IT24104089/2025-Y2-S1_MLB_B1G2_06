{
 "cells": [
  {
   "cell_type": "code",
   "execution_count": 1,
   "id": "40a8e157-be5f-4e75-9c4f-84c013964fe1",
   "metadata": {},
   "outputs": [
    {
     "ename": "NameError",
     "evalue": "name 'pd' is not defined",
     "output_type": "error",
     "traceback": [
      "\u001b[1;31m---------------------------------------------------------------------------\u001b[0m",
      "\u001b[1;31mNameError\u001b[0m                                 Traceback (most recent call last)",
      "Cell \u001b[1;32mIn[1], line 7\u001b[0m\n\u001b[0;32m      4\u001b[0m \u001b[38;5;28;01mfrom\u001b[39;00m \u001b[38;5;21;01msklearn\u001b[39;00m\u001b[38;5;21;01m.\u001b[39;00m\u001b[38;5;21;01mpreprocessing\u001b[39;00m \u001b[38;5;28;01mimport\u001b[39;00m LabelEncoder\n\u001b[0;32m      6\u001b[0m \u001b[38;5;66;03m# Load data\u001b[39;00m\n\u001b[1;32m----> 7\u001b[0m df \u001b[38;5;241m=\u001b[39m pd\u001b[38;5;241m.\u001b[39mread_csv(\u001b[38;5;124m\"\u001b[39m\u001b[38;5;124mheart_with_bp_feature.csv\u001b[39m\u001b[38;5;124m\"\u001b[39m)\n\u001b[0;32m      9\u001b[0m \u001b[38;5;66;03m# Print shape and first few rows of the dataframe\u001b[39;00m\n\u001b[0;32m     10\u001b[0m \u001b[38;5;28mprint\u001b[39m(df\u001b[38;5;241m.\u001b[39mshape)\n",
      "\u001b[1;31mNameError\u001b[0m: name 'pd' is not defined"
     ]
    }
   ],
   "source": [
    "import seaborn as sns\n",
    "import matplotlib.pyplot as plt\n",
    "from sklearn.feature_selection import VarianceThreshold\n",
    "from sklearn.preprocessing import LabelEncoder\n",
    "\n",
    "# Load data\n",
    "df = pd.read_csv(\"heart_with_bp_feature.csv\")\n",
    "\n",
    "# Print shape and first few rows of the dataframe\n",
    "print(df.shape)\n",
    "print(df.head())\n",
    "\n",
    "# Separate features and target\n",
    "X = df.drop(columns=['target'])   # Drop the target column\n",
    "y = df['target']  # Target column\n",
    "\n",
    "# Handle categorical columns (e.g., 'blood_pressure_category') by encoding them\n",
    "categorical_columns = X.select_dtypes(include=['object']).columns\n",
    "\n",
    "# Use LabelEncoder for categorical columns\n",
    "le = LabelEncoder()\n",
    "for col in categorical_columns:\n",
    "    X[col] = le.fit_transform(X[col])\n",
    "\n",
    "# Apply Variance Threshold (remove features with low variance)\n",
    "selector = VarianceThreshold(threshold=0.0)   # start with 0, can increase to 0.01\n",
    "X_reduced = selector.fit_transform(X)\n",
    "\n",
    "# Get selected features\n",
    "selected_features = X.columns[selector.get_support(indices=True)]\n",
    "\n",
    "# Output the results\n",
    "print(\"Original features:\", X.shape[1])\n",
    "print(\"Remaining features:\", X_reduced.shape[1])\n",
    "print(\"Selected Features:\", list(selected_features))\n",
    "\n",
    "# 1. Calculate the correlation matrix\n",
    "corr_matrix = X.corr()\n",
    "\n",
    "# 2. Plot the heatmap\n",
    "plt.figure(figsize=(12, 8))  # Size of the heatmap\n",
    "sns.heatmap(corr_matrix, annot=True, cmap='coolwarm', fmt='.2f', linewidths=0.5)\n",
    "plt.title('Correlation Heatmap')\n",
    "plt.show()\n"
   ]
  },
  {
   "cell_type": "code",
   "execution_count": null,
   "id": "5f73099f-a221-4015-93da-f9570fc4a0cc",
   "metadata": {},
   "outputs": [],
   "source": []
  }
 ],
 "metadata": {
  "kernelspec": {
   "display_name": "Python [conda env:base] *",
   "language": "python",
   "name": "conda-base-py"
  },
  "language_info": {
   "codemirror_mode": {
    "name": "ipython",
    "version": 3
   },
   "file_extension": ".py",
   "mimetype": "text/x-python",
   "name": "python",
   "nbconvert_exporter": "python",
   "pygments_lexer": "ipython3",
   "version": "3.12.7"
  }
 },
 "nbformat": 4,
 "nbformat_minor": 5
}
