{
 "cells": [
  {
   "cell_type": "code",
   "execution_count": null,
   "id": "ddb972e3",
   "metadata": {},
   "outputs": [],
   "source": [
    "# --- Encoding Categorical Variables (Amarakeerthi H.K.K.U / IT24104102) ---\n",
    "# Heart Disease Prediction Model - Data Preprocessing\n",
    "\n",
    "# 1. Import required libraries\n",
    "import pandas as pd\n",
    "import matplotlib.pyplot as plt\n",
    "from pathlib import Path\n",
    "\n",
    "# 2. Load dataset (adjust path if needed)\n",
    "df = pd.read_csv(\"heart.csv\")\n",
    "\n",
    "# 3. Identify categorical columns\n",
    "# Binary features (already 0/1): keep as they are\n",
    "binary_like = [\"sex\", \"fbs\", \"exang\"]\n",
    "\n",
    "# Multi-category integer-coded features: need one-hot encoding\n",
    "multi_cat_like = [\"cp\", \"restecg\", \"slope\", \"ca\", \"thal\"]\n",
    "\n",
    "# 4. Apply one-hot encoding to multi-category features\n",
    "# Ensure dummy variables are strictly 0/1 integers\n",
    "df_encoded = pd.get_dummies(\n",
    "    df,\n",
    "    columns=multi_cat_like,\n",
    "    drop_first=True,\n",
    "    dtype=int    # <--- force 1/0 instead of True/False\n",
    ")\n",
    "\n",
    "# Reorder columns so 'target' (label: heart disease yes/no) is at the end\n",
    "cols = [c for c in df_encoded.columns if c != \"target\"] + ([\"target\"] if \"target\" in df_encoded.columns else [])\n",
    "df_encoded = df_encoded[cols]\n",
    "\n",
    "print(\"Original dataset shape:\", df.shape)\n",
    "print(\"Encoded dataset shape :\", df_encoded.shape)\n",
    "\n",
    "# 5. EDA Visualization: Distribution of chest pain types (cp)\n",
    "ax = df[\"cp\"].value_counts().sort_index().plot(kind=\"bar\")\n",
    "plt.title(\"Chest Pain Type (cp) – Distribution\")\n",
    "plt.xlabel(\"Chest Pain Category Code\")\n",
    "plt.ylabel(\"Number of Patients\")\n",
    "plt.tight_layout()\n",
    "plt.show()\n",
    "\n",
    "# 6. Save the encoded dataset (for model training later)\n",
    "output_dir = Path(\"results/outputs\")\n",
    "output_dir.mkdir(parents=True, exist_ok=True)\n",
    "encoded_path = output_dir / \"heart_encoded.csv\"\n",
    "df_encoded.to_csv(encoded_path, index=False)\n",
    "\n",
    "print(f\"✅ Encoded dataset saved to: {encoded_path}\")"
   ]
  }
 ],
 "metadata": {
  "kernelspec": {
   "display_name": "base",
   "language": "python",
   "name": "python3"
  },
  "language_info": {
   "name": "python",
   "version": "3.12.7"
  }
 },
 "nbformat": 4,
 "nbformat_minor": 5
}
